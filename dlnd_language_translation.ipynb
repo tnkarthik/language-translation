{
 "cells": [
  {
   "cell_type": "markdown",
   "metadata": {
    "collapsed": true
   },
   "source": [
    "# Language Translation\n",
    "In this project, you’re going to take a peek into the realm of neural network machine translation.  You’ll be training a sequence to sequence model on a dataset of English and French sentences that can translate new sentences from English to French.\n",
    "## Get the Data\n",
    "Since translating the whole language of English to French will take lots of time to train, we have provided you with a small portion of the English corpus."
   ]
  },
  {
   "cell_type": "code",
   "execution_count": 1,
   "metadata": {
    "collapsed": true
   },
   "outputs": [],
   "source": [
    "\"\"\"\n",
    "DON'T MODIFY ANYTHING IN THIS CELL\n",
    "\"\"\"\n",
    "import helper\n",
    "import problem_unittests as tests\n",
    "\n",
    "source_path = 'data/small_vocab_en'\n",
    "target_path = 'data/small_vocab_fr'\n",
    "source_text = helper.load_data(source_path)\n",
    "target_text = helper.load_data(target_path)"
   ]
  },
  {
   "cell_type": "markdown",
   "metadata": {},
   "source": [
    "## Explore the Data\n",
    "Play around with view_sentence_range to view different parts of the data."
   ]
  },
  {
   "cell_type": "code",
   "execution_count": null,
   "metadata": {},
   "outputs": [],
   "source": [
    "view_sentence_range = (0, 10)\n",
    "\n",
    "\"\"\"\n",
    "DON'T MODIFY ANYTHING IN THIS CELL\n",
    "\"\"\"\n",
    "import numpy as np\n",
    "\n",
    "print('Dataset Stats')\n",
    "print('Roughly the number of unique words: {}'.format(len({word: None for word in source_text.split()})))\n",
    "\n",
    "sentences = source_text.split('\\n')\n",
    "word_counts = [len(sentence.split()) for sentence in sentences]\n",
    "print('Number of sentences: {}'.format(len(sentences)))\n",
    "print('Average number of words in a sentence: {}'.format(np.average(word_counts)))\n",
    "\n",
    "print()\n",
    "print('English sentences {} to {}:'.format(*view_sentence_range))\n",
    "print('\\n'.join(source_text.split('\\n')[view_sentence_range[0]:view_sentence_range[1]]))\n",
    "print()\n",
    "print('French sentences {} to {}:'.format(*view_sentence_range))\n",
    "print('\\n'.join(target_text.split('\\n')[view_sentence_range[0]:view_sentence_range[1]]))"
   ]
  },
  {
   "cell_type": "markdown",
   "metadata": {},
   "source": [
    "## Implement Preprocessing Function\n",
    "### Text to Word Ids\n",
    "As you did with other RNNs, you must turn the text into a number so the computer can understand it. In the function `text_to_ids()`, you'll turn `source_text` and `target_text` from words to ids.  However, you need to add the `<EOS>` word id at the end of `target_text`.  This will help the neural network predict when the sentence should end.\n",
    "\n",
    "You can get the `<EOS>` word id by doing:\n",
    "```python\n",
    "target_vocab_to_int['<EOS>']\n",
    "```\n",
    "You can get other word ids using `source_vocab_to_int` and `target_vocab_to_int`."
   ]
  },
  {
   "cell_type": "code",
   "execution_count": null,
   "metadata": {},
   "outputs": [],
   "source": [
    "import re\n",
    "def text_to_ids(source_text, target_text, source_vocab_to_int, target_vocab_to_int):\n",
    "    \"\"\"\n",
    "    Convert source and target text to proper word ids\n",
    "    :param source_text: String that contains all the source text.\n",
    "    :param target_text: String that contains all the target text.\n",
    "    :param source_vocab_to_int: Dictionary to go from the source words to an id\n",
    "    :param target_vocab_to_int: Dictionary to go from the target words to an id\n",
    "    :return: A tuple of lists (source_id_text, target_id_text)\n",
    "    \"\"\"\n",
    "    # TODO: Implement Function\n",
    "    source_sentences = source_text.split(\"\\n\")\n",
    "    source_id_text = [[source_vocab_to_int[x] for x in y.split()] for y in source_sentences]\n",
    "    target_sentences = target_text.split(\"\\n\")\n",
    "    eos_id = target_vocab_to_int[\"<EOS>\"]\n",
    "    target_id_text = [[target_vocab_to_int[x] for x in y.split()] + [eos_id] for y in target_sentences]\n",
    "    \n",
    "    return source_id_text, target_id_text\n",
    "\n",
    "\"\"\"\n",
    "DON'T MODIFY ANYTHING IN THIS CELL THAT IS BELOW THIS LINE\n",
    "\"\"\"\n",
    "tests.test_text_to_ids(text_to_ids)"
   ]
  },
  {
   "cell_type": "markdown",
   "metadata": {},
   "source": [
    "### Preprocess all the data and save it\n",
    "Running the code cell below will preprocess all the data and save it to file."
   ]
  },
  {
   "cell_type": "code",
   "execution_count": null,
   "metadata": {
    "collapsed": true
   },
   "outputs": [],
   "source": [
    "\"\"\"\n",
    "DON'T MODIFY ANYTHING IN THIS CELL\n",
    "\"\"\"\n",
    "helper.preprocess_and_save_data(source_path, target_path, text_to_ids)"
   ]
  },
  {
   "cell_type": "markdown",
   "metadata": {},
   "source": [
    "# Check Point\n",
    "This is your first checkpoint. If you ever decide to come back to this notebook or have to restart the notebook, you can start from here. The preprocessed data has been saved to disk."
   ]
  },
  {
   "cell_type": "code",
   "execution_count": 2,
   "metadata": {
    "collapsed": true
   },
   "outputs": [],
   "source": [
    "\"\"\"\n",
    "DON'T MODIFY ANYTHING IN THIS CELL\n",
    "\"\"\"\n",
    "import numpy as np\n",
    "import helper\n",
    "\n",
    "(source_int_text, target_int_text), (source_vocab_to_int, target_vocab_to_int), _ = helper.load_preprocess()"
   ]
  },
  {
   "cell_type": "markdown",
   "metadata": {},
   "source": [
    "### Check the Version of TensorFlow and Access to GPU\n",
    "This will check to make sure you have the correct version of TensorFlow and access to a GPU"
   ]
  },
  {
   "cell_type": "code",
   "execution_count": 4,
   "metadata": {},
   "outputs": [
    {
     "name": "stdout",
     "output_type": "stream",
     "text": [
      "TensorFlow Version: 1.2.1\n"
     ]
    },
    {
     "name": "stderr",
     "output_type": "stream",
     "text": [
      "C:\\Users\\ThimmKa\\AppData\\Local\\Continuum\\Anaconda2\\envs\\tensorflow1\\lib\\site-packages\\ipykernel_launcher.py:15: UserWarning: No GPU found. Please use a GPU to train your neural network.\n",
      "  from ipykernel import kernelapp as app\n"
     ]
    }
   ],
   "source": [
    "\"\"\"\n",
    "DON'T MODIFY ANYTHING IN THIS CELL\n",
    "\"\"\"\n",
    "from distutils.version import LooseVersion\n",
    "import warnings\n",
    "import tensorflow as tf\n",
    "from tensorflow.python.layers.core import Dense\n",
    "\n",
    "# Check TensorFlow Version\n",
    "assert LooseVersion(tf.__version__) >= LooseVersion('1.1'), 'Please use TensorFlow version 1.1 or newer'\n",
    "print('TensorFlow Version: {}'.format(tf.__version__))\n",
    "\n",
    "# Check for a GPU\n",
    "if not tf.test.gpu_device_name():\n",
    "    warnings.warn('No GPU found. Please use a GPU to train your neural network.')\n",
    "else:\n",
    "    print('Default GPU Device: {}'.format(tf.test.gpu_device_name()))"
   ]
  },
  {
   "cell_type": "markdown",
   "metadata": {},
   "source": [
    "## Build the Neural Network\n",
    "You'll build the components necessary to build a Sequence-to-Sequence model by implementing the following functions below:\n",
    "- `model_inputs`\n",
    "- `process_decoder_input`\n",
    "- `encoding_layer`\n",
    "- `decoding_layer_train`\n",
    "- `decoding_layer_infer`\n",
    "- `decoding_layer`\n",
    "- `seq2seq_model`\n",
    "\n",
    "### Input\n",
    "Implement the `model_inputs()` function to create TF Placeholders for the Neural Network. It should create the following placeholders:\n",
    "\n",
    "- Input text placeholder named \"input\" using the TF Placeholder name parameter with rank 2.\n",
    "- Targets placeholder with rank 2.\n",
    "- Learning rate placeholder with rank 0.\n",
    "- Keep probability placeholder named \"keep_prob\" using the TF Placeholder name parameter with rank 0.\n",
    "- Target sequence length placeholder named \"target_sequence_length\" with rank 1\n",
    "- Max target sequence length tensor named \"max_target_len\" getting its value from applying tf.reduce_max on the target_sequence_length placeholder. Rank 0.\n",
    "- Source sequence length placeholder named \"source_sequence_length\" with rank 1\n",
    "\n",
    "Return the placeholders in the following the tuple (input, targets, learning rate, keep probability, target sequence length, max target sequence length, source sequence length)"
   ]
  },
  {
   "cell_type": "code",
   "execution_count": 5,
   "metadata": {},
   "outputs": [
    {
     "name": "stdout",
     "output_type": "stream",
     "text": [
      "Tests Passed\n"
     ]
    }
   ],
   "source": [
    "def model_inputs():\n",
    "    \"\"\"\n",
    "    Create TF Placeholders for input, targets, learning rate, and lengths of source and target sequences.\n",
    "    :return: Tuple (input, targets, learning rate, keep probability, target sequence length,\n",
    "    max target sequence length, source sequence length)\n",
    "    \"\"\"\n",
    "    # TODO: Implement Function\n",
    "    inputs = tf.placeholder(shape = [None,None], dtype = tf.int32, name = \"input\")\n",
    "    targets = tf.placeholder(shape = [None, None], dtype = tf.int32)\n",
    "    learning_rate = tf.placeholder(shape = [], dtype = tf.float32)\n",
    "    keep_probability = tf.placeholder(shape = [], dtype = tf.float32, name = \"keep_prob\")\n",
    "    target_seq_length = tf.placeholder(shape = [None], dtype = tf.int32, name = \"target_sequence_length\")\n",
    "    max_target_seq_length = tf.reduce_max(target_seq_length, name = \"max_target_len\")\n",
    "    source_seq_length = tf.placeholder(shape = [None], dtype = tf.int32, name = \"source_sequence_length\")\n",
    "    \n",
    "    return inputs, targets, learning_rate, keep_probability, target_seq_length, max_target_seq_length, source_seq_length\n",
    "\n",
    "\n",
    "\"\"\"\n",
    "DON'T MODIFY ANYTHING IN THIS CELL THAT IS BELOW THIS LINE\n",
    "\"\"\"\n",
    "tests.test_model_inputs(model_inputs)"
   ]
  },
  {
   "cell_type": "markdown",
   "metadata": {},
   "source": [
    "### Process Decoder Input\n",
    "Implement `process_decoder_input` by removing the last word id from each batch in `target_data` and concat the GO ID to the begining of each batch."
   ]
  },
  {
   "cell_type": "code",
   "execution_count": 6,
   "metadata": {},
   "outputs": [
    {
     "name": "stdout",
     "output_type": "stream",
     "text": [
      "Tests Passed\n"
     ]
    }
   ],
   "source": [
    "def process_decoder_input(target_data, target_vocab_to_int, batch_size):\n",
    "    \"\"\"\n",
    "    Preprocess target data for encoding\n",
    "    :param target_data: Target Placehoder\n",
    "    :param target_vocab_to_int: Dictionary to go from the target words to an id\n",
    "    :param batch_size: Batch Size\n",
    "    :return: Preprocessed target data\n",
    "    \"\"\"\n",
    "    # TODO: Implement Function\n",
    "    go_id = target_vocab_to_int[\"<GO>\"]\n",
    "    go_ids =  tf.expand_dims(tf.constant(np.repeat([go_id], batch_size)),1)\n",
    "    return tf.concat([go_ids,target_data[:,:-1]],1)\n",
    "    return None\n",
    "\n",
    "\"\"\"\n",
    "DON'T MODIFY ANYTHING IN THIS CELL THAT IS BELOW THIS LINE\n",
    "\"\"\"\n",
    "tests.test_process_encoding_input(process_decoder_input)"
   ]
  },
  {
   "cell_type": "markdown",
   "metadata": {},
   "source": [
    "### Encoding\n",
    "Implement `encoding_layer()` to create a Encoder RNN layer:\n",
    " * Embed the encoder input using [`tf.contrib.layers.embed_sequence`](https://www.tensorflow.org/api_docs/python/tf/contrib/layers/embed_sequence)\n",
    " * Construct a [stacked](https://github.com/tensorflow/tensorflow/blob/6947f65a374ebf29e74bb71e36fd82760056d82c/tensorflow/docs_src/tutorials/recurrent.md#stacking-multiple-lstms) [`tf.contrib.rnn.LSTMCell`](https://www.tensorflow.org/api_docs/python/tf/contrib/rnn/LSTMCell) wrapped in a [`tf.contrib.rnn.DropoutWrapper`](https://www.tensorflow.org/api_docs/python/tf/contrib/rnn/DropoutWrapper)\n",
    " * Pass cell and embedded input to [`tf.nn.dynamic_rnn()`](https://www.tensorflow.org/api_docs/python/tf/nn/dynamic_rnn)"
   ]
  },
  {
   "cell_type": "code",
   "execution_count": 7,
   "metadata": {
    "scrolled": false
   },
   "outputs": [
    {
     "name": "stdout",
     "output_type": "stream",
     "text": [
      "Tests Passed\n"
     ]
    }
   ],
   "source": [
    "from imp import reload\n",
    "reload(tests)\n",
    "\n",
    "def encoding_layer(rnn_inputs, rnn_size, num_layers, keep_prob, \n",
    "                   source_sequence_length, source_vocab_size, \n",
    "                   encoding_embedding_size):\n",
    "    \"\"\"\n",
    "    Create encoding layer\n",
    "    :param rnn_inputs: Inputs for the RNN\n",
    "    :param rnn_size: RNN Size\n",
    "    :param num_layers: Number of layers\n",
    "    :param keep_prob: Dropout keep probability\n",
    "    :param source_sequence_length: a list of the lengths of each sequence in the batch\n",
    "    :param source_vocab_size: vocabulary size of source data\n",
    "    :param encoding_embedding_size: embedding size of source data\n",
    "    :return: tuple (RNN output, RNN state)\n",
    "    \"\"\"\n",
    "    # TODO: Implement Function\n",
    "    inputs_embed = tf.contrib.layers.embed_sequence(ids = rnn_inputs, vocab_size = source_vocab_size,\n",
    "                                                   embed_dim = encoding_embedding_size)\n",
    "    stacked_lstm = tf.contrib.rnn.MultiRNNCell([tf.contrib.rnn.LSTMCell(rnn_size) for _ in range(num_layers)])\n",
    "    stacked_lstm = tf.contrib.rnn.DropoutWrapper(stacked_lstm, input_keep_prob= keep_prob)\n",
    "    rnn_output, state = tf.nn.dynamic_rnn(stacked_lstm,inputs_embed, dtype = tf.float32)\n",
    "    return rnn_output,state\n",
    "\n",
    "\"\"\"\n",
    "DON'T MODIFY ANYTHING IN THIS CELL THAT IS BELOW THIS LINE\n",
    "\"\"\"\n",
    "tests.test_encoding_layer(encoding_layer)"
   ]
  },
  {
   "cell_type": "markdown",
   "metadata": {},
   "source": [
    "### Decoding - Training\n",
    "Create a training decoding layer:\n",
    "* Create a [`tf.contrib.seq2seq.TrainingHelper`](https://www.tensorflow.org/api_docs/python/tf/contrib/seq2seq/TrainingHelper) \n",
    "* Create a [`tf.contrib.seq2seq.BasicDecoder`](https://www.tensorflow.org/api_docs/python/tf/contrib/seq2seq/BasicDecoder)\n",
    "* Obtain the decoder outputs from [`tf.contrib.seq2seq.dynamic_decode`](https://www.tensorflow.org/api_docs/python/tf/contrib/seq2seq/dynamic_decode)"
   ]
  },
  {
   "cell_type": "code",
   "execution_count": 9,
   "metadata": {},
   "outputs": [
    {
     "name": "stdout",
     "output_type": "stream",
     "text": [
      "Tests Passed\n"
     ]
    }
   ],
   "source": [
    "\n",
    "def decoding_layer_train(encoder_state, dec_cell, dec_embed_input, \n",
    "                         target_sequence_length, max_summary_length, \n",
    "                         output_layer, keep_prob):\n",
    "    \"\"\"\n",
    "    Create a decoding layer for training\n",
    "    :param encoder_state: Encoder State\n",
    "    :param dec_cell: Decoder RNN Cell\n",
    "    :param dec_embed_input: Decoder embedded input\n",
    "    :param target_sequence_length: The lengths of each sequence in the target batch\n",
    "    :param max_summary_length: The length of the longest sequence in the batch\n",
    "    :param output_layer: Function to apply the output layer\n",
    "    :param keep_prob: Dropout keep probability\n",
    "    :return: BasicDecoderOutput containing training logits and sample_id\n",
    "    \"\"\"\n",
    "    # TODO: Implement Function\n",
    "    train_helper = tf.contrib.seq2seq.TrainingHelper(dec_embed_input, target_sequence_length)\n",
    "    decoder = tf.contrib.seq2seq.BasicDecoder(dec_cell, train_helper, encoder_state, output_layer)\n",
    "    outputs,_,_ = tf.contrib.seq2seq.dynamic_decode(decoder, impute_finished = True, maximum_iterations = max_summary_length)\n",
    "    \n",
    "    return outputs\n",
    "\n",
    "\n",
    "\n",
    "\"\"\"\n",
    "DON'T MODIFY ANYTHING IN THIS CELL THAT IS BELOW THIS LINE\n",
    "\"\"\"\n",
    "tests.test_decoding_layer_train(decoding_layer_train)"
   ]
  },
  {
   "cell_type": "markdown",
   "metadata": {},
   "source": [
    "### Decoding - Inference\n",
    "Create inference decoder:\n",
    "* Create a [`tf.contrib.seq2seq.GreedyEmbeddingHelper`](https://www.tensorflow.org/api_docs/python/tf/contrib/seq2seq/GreedyEmbeddingHelper)\n",
    "* Create a [`tf.contrib.seq2seq.BasicDecoder`](https://www.tensorflow.org/api_docs/python/tf/contrib/seq2seq/BasicDecoder)\n",
    "* Obtain the decoder outputs from [`tf.contrib.seq2seq.dynamic_decode`](https://www.tensorflow.org/api_docs/python/tf/contrib/seq2seq/dynamic_decode)"
   ]
  },
  {
   "cell_type": "code",
   "execution_count": 10,
   "metadata": {
    "scrolled": true
   },
   "outputs": [
    {
     "name": "stdout",
     "output_type": "stream",
     "text": [
      "Tests Passed\n"
     ]
    }
   ],
   "source": [
    "def decoding_layer_infer(encoder_state, dec_cell, dec_embeddings, start_of_sequence_id,\n",
    "                         end_of_sequence_id, max_target_sequence_length,\n",
    "                         vocab_size, output_layer, batch_size, keep_prob):\n",
    "    \"\"\"\n",
    "    Create a decoding layer for inference\n",
    "    :param encoder_state: Encoder state\n",
    "    :param dec_cell: Decoder RNN Cell\n",
    "    :param dec_embeddings: Decoder embeddings\n",
    "    :param start_of_sequence_id: GO ID\n",
    "    :param end_of_sequence_id: EOS Id\n",
    "    :param max_target_sequence_length: Maximum length of target sequences\n",
    "    :param vocab_size: Size of decoder/target vocabulary\n",
    "    :param decoding_scope: TenorFlow Variable Scope for decoding\n",
    "    :param output_layer: Function to apply the output layer\n",
    "    :param batch_size: Batch size\n",
    "    :param keep_prob: Dropout keep probability\n",
    "    :return: BasicDecoderOutput containing inference logits and sample_id\n",
    "    \"\"\"\n",
    "    # TODO: Implement Function\n",
    "    infer_helper = tf.contrib.seq2seq.GreedyEmbeddingHelper(dec_embeddings,[start_of_sequence_id]*batch_size, end_of_sequence_id)\n",
    "    decoder = tf.contrib.seq2seq.BasicDecoder(dec_cell, infer_helper, encoder_state, output_layer)\n",
    "    outputs,_,_ = tf.contrib.seq2seq.dynamic_decode(decoder, impute_finished = True, maximum_iterations = max_target_sequence_length)\n",
    "    \n",
    "    return outputs\n",
    "\n",
    "\n",
    "\n",
    "\"\"\"\n",
    "DON'T MODIFY ANYTHING IN THIS CELL THAT IS BELOW THIS LINE\n",
    "\"\"\"\n",
    "tests.test_decoding_layer_infer(decoding_layer_infer)"
   ]
  },
  {
   "cell_type": "markdown",
   "metadata": {},
   "source": [
    "### Build the Decoding Layer\n",
    "Implement `decoding_layer()` to create a Decoder RNN layer.\n",
    "\n",
    "* Embed the target sequences\n",
    "* Construct the decoder LSTM cell (just like you constructed the encoder cell above)\n",
    "* Create an output layer to map the outputs of the decoder to the elements of our vocabulary\n",
    "* Use the your `decoding_layer_train(encoder_state, dec_cell, dec_embed_input, target_sequence_length, max_target_sequence_length, output_layer, keep_prob)` function to get the training logits.\n",
    "* Use your `decoding_layer_infer(encoder_state, dec_cell, dec_embeddings, start_of_sequence_id, end_of_sequence_id, max_target_sequence_length, vocab_size, output_layer, batch_size, keep_prob)` function to get the inference logits.\n",
    "\n",
    "Note: You'll need to use [tf.variable_scope](https://www.tensorflow.org/api_docs/python/tf/variable_scope) to share variables between training and inference."
   ]
  },
  {
   "cell_type": "code",
   "execution_count": 11,
   "metadata": {},
   "outputs": [
    {
     "name": "stdout",
     "output_type": "stream",
     "text": [
      "Tests Passed\n"
     ]
    }
   ],
   "source": [
    "def decoding_layer(dec_input, encoder_state,\n",
    "                   target_sequence_length, max_target_sequence_length,\n",
    "                   rnn_size,\n",
    "                   num_layers, target_vocab_to_int, target_vocab_size,\n",
    "                   batch_size, keep_prob, decoding_embedding_size):\n",
    "    \"\"\"\n",
    "    Create decoding layer\n",
    "    :param dec_input: Decoder input\n",
    "    :param encoder_state: Encoder state\n",
    "    :param target_sequence_length: The lengths of each sequence in the target batch\n",
    "    :param max_target_sequence_length: Maximum length of target sequences\n",
    "    :param rnn_size: RNN Size\n",
    "    :param num_layers: Number of layers\n",
    "    :param target_vocab_to_int: Dictionary to go from the target words to an id\n",
    "    :param target_vocab_size: Size of target vocabulary\n",
    "    :param batch_size: The size of the batch\n",
    "    :param keep_prob: Dropout keep probability\n",
    "    :return: Tuple of (Training BasicDecoderOutput, Inference BasicDecoderOutput)\n",
    "    \"\"\"\n",
    "    # TODO: Implement Function\n",
    "    dec_embeddings = tf.Variable(tf.random_uniform([target_vocab_size, decoding_embedding_size]))\n",
    "    dec_embed_input = tf.nn.embedding_lookup(dec_embeddings, dec_input)\n",
    "    #dec_embed_input = tf.contrib.layers.embed_sequence(dec_input, vocab_size = target_vocab_size, embed_dim = decoding_embedding_size)\n",
    "    \n",
    "    decoder_lstm = tf.contrib.rnn.MultiRNNCell([tf.contrib.rnn.BasicLSTMCell(rnn_size) for _ in range(num_layers)])\n",
    "    decoder_lstm = tf.contrib.rnn.DropoutWrapper(decoder_lstm, input_keep_prob = keep_prob)\n",
    "    #decoder_output, output_state = tf.nn.dynamic_rnn(decoder_lstm, inputs = dec_embed_input, dtype = tf.float32)\n",
    "    \n",
    "    from tensorflow.python.layers.core import Dense\n",
    "    \n",
    "    start_of_sequence_id = target_vocab_to_int[\"<GO>\"]\n",
    "    end_of_sequence_id = target_vocab_to_int[\"<EOS>\"]\n",
    "    \n",
    "    with tf.variable_scope(\"train_infer\"):\n",
    "        output_layer = Dense(units = target_vocab_size)\n",
    "        train_logits = decoding_layer_train(encoder_state, decoder_lstm, dec_embed_input,\\\n",
    "                                            target_sequence_length, max_target_sequence_length, output_layer, keep_prob)\n",
    "        infer_logits = decoding_layer_infer(encoder_state, decoder_lstm, dec_embeddings, \\\n",
    "                                            start_of_sequence_id, end_of_sequence_id, max_target_sequence_length, \\\n",
    "                                            target_vocab_size, output_layer, batch_size, keep_prob)\n",
    "    return train_logits, infer_logits\n",
    "\n",
    "\n",
    "\n",
    "\"\"\"\n",
    "DON'T MODIFY ANYTHING IN THIS CELL THAT IS BELOW THIS LINE\n",
    "\"\"\"\n",
    "tests.test_decoding_layer(decoding_layer)"
   ]
  },
  {
   "cell_type": "markdown",
   "metadata": {},
   "source": [
    "### Build the Neural Network\n",
    "Apply the functions you implemented above to:\n",
    "\n",
    "- Apply embedding to the input data for the encoder.\n",
    "- Encode the input using your `encoding_layer(rnn_inputs, rnn_size, num_layers, keep_prob,  source_sequence_length, source_vocab_size, encoding_embedding_size)`.\n",
    "- Process target data using your `process_decoder_input(target_data, target_vocab_to_int, batch_size)` function.\n",
    "- Apply embedding to the target data for the decoder.\n",
    "- Decode the encoded input using your `decoding_layer(dec_input, enc_state, target_sequence_length, max_target_sentence_length, rnn_size, num_layers, target_vocab_to_int, target_vocab_size, batch_size, keep_prob, dec_embedding_size)` function."
   ]
  },
  {
   "cell_type": "code",
   "execution_count": 12,
   "metadata": {},
   "outputs": [
    {
     "name": "stdout",
     "output_type": "stream",
     "text": [
      "Tests Passed\n"
     ]
    }
   ],
   "source": [
    "def seq2seq_model(input_data, target_data, keep_prob, batch_size,\n",
    "                  source_sequence_length, target_sequence_length,\n",
    "                  max_target_sentence_length,\n",
    "                  source_vocab_size, target_vocab_size,\n",
    "                  enc_embedding_size, dec_embedding_size,\n",
    "                  rnn_size, num_layers, target_vocab_to_int):\n",
    "    \"\"\"\n",
    "    Build the Sequence-to-Sequence part of the neural network\n",
    "    :param input_data: Input placeholder\n",
    "    :param target_data: Target placeholder\n",
    "    :param keep_prob: Dropout keep probability placeholder\n",
    "    :param batch_size: Batch Size\n",
    "    :param source_sequence_length: Sequence Lengths of source sequences in the batch\n",
    "    :param target_sequence_length: Sequence Lengths of target sequences in the batch\n",
    "    :param source_vocab_size: Source vocabulary size\n",
    "    :param target_vocab_size: Target vocabulary size\n",
    "    :param enc_embedding_size: Decoder embedding size\n",
    "    :param dec_embedding_size: Encoder embedding size\n",
    "    :param rnn_size: RNN Size\n",
    "    :param num_layers: Number of layers\n",
    "    :param target_vocab_to_int: Dictionary to go from the target words to an id\n",
    "    :return: Tuple of (Training BasicDecoderOutput, Inference BasicDecoderOutput)\n",
    "    \"\"\"\n",
    "    # TODO: Implement Function\n",
    "    enc_output, enc_state = encoding_layer(input_data, rnn_size, num_layers, keep_prob, source_sequence_length, source_vocab_size,\\\n",
    "                                 enc_embedding_size)\n",
    "    target_data_processed = process_decoder_input(target_data, target_vocab_to_int, batch_size)\n",
    "    \n",
    "    train_logits, infer_logits = \\\n",
    "    decoding_layer(target_data_processed, enc_state, target_sequence_length, max_target_sentence_length, rnn_size, \\\n",
    "                   num_layers, target_vocab_to_int, target_vocab_size, batch_size, keep_prob, dec_embedding_size) \n",
    "    return train_logits, infer_logits\n",
    "\n",
    "\n",
    "\"\"\"\n",
    "DON'T MODIFY ANYTHING IN THIS CELL THAT IS BELOW THIS LINE\n",
    "\"\"\"\n",
    "tests.test_seq2seq_model(seq2seq_model)"
   ]
  },
  {
   "cell_type": "markdown",
   "metadata": {},
   "source": [
    "## Neural Network Training\n",
    "### Hyperparameters\n",
    "Tune the following parameters:\n",
    "\n",
    "- Set `epochs` to the number of epochs.\n",
    "- Set `batch_size` to the batch size.\n",
    "- Set `rnn_size` to the size of the RNNs.\n",
    "- Set `num_layers` to the number of layers.\n",
    "- Set `encoding_embedding_size` to the size of the embedding for the encoder.\n",
    "- Set `decoding_embedding_size` to the size of the embedding for the decoder.\n",
    "- Set `learning_rate` to the learning rate.\n",
    "- Set `keep_probability` to the Dropout keep probability\n",
    "- Set `display_step` to state how many steps between each debug output statement"
   ]
  },
  {
   "cell_type": "code",
   "execution_count": 63,
   "metadata": {
    "collapsed": true
   },
   "outputs": [],
   "source": [
    "# Number of Epochs\n",
    "epochs = 25\n",
    "# Batch Size\n",
    "batch_size = 256\n",
    "# RNN Size\n",
    "rnn_size = 64\n",
    "# Number of Layers\n",
    "num_layers = 2\n",
    "# Embedding Size\n",
    "encoding_embedding_size = 1024\n",
    "decoding_embedding_size = 1024\n",
    "# Learning Rate\n",
    "learning_rate = 5e-4\n",
    "# Dropout Keep Probability\n",
    "keep_probability = .7\n",
    "display_step = 50"
   ]
  },
  {
   "cell_type": "markdown",
   "metadata": {},
   "source": [
    "### Build the Graph\n",
    "Build the graph using the neural network you implemented."
   ]
  },
  {
   "cell_type": "code",
   "execution_count": 64,
   "metadata": {},
   "outputs": [],
   "source": [
    "\"\"\"\n",
    "DON'T MODIFY ANYTHING IN THIS CELL\n",
    "\"\"\"\n",
    "save_path = 'checkpoints/dev'\n",
    "(source_int_text, target_int_text), (source_vocab_to_int, target_vocab_to_int), _ = helper.load_preprocess()\n",
    "max_target_sentence_length = max([len(sentence) for sentence in source_int_text])\n",
    "\n",
    "train_graph = tf.Graph()\n",
    "with train_graph.as_default():\n",
    "    input_data, targets, lr, keep_prob, target_sequence_length, max_target_sequence_length, source_sequence_length = model_inputs()\n",
    "\n",
    "    #sequence_length = tf.placeholder_with_default(max_target_sentence_length, None, name='sequence_length')\n",
    "    input_shape = tf.shape(input_data)\n",
    "\n",
    "    train_logits, inference_logits = seq2seq_model(tf.reverse(input_data, [-1]),\n",
    "                                                   targets,\n",
    "                                                   keep_prob,\n",
    "                                                   batch_size,\n",
    "                                                   source_sequence_length,\n",
    "                                                   target_sequence_length,\n",
    "                                                   max_target_sequence_length,\n",
    "                                                   len(source_vocab_to_int),\n",
    "                                                   len(target_vocab_to_int),\n",
    "                                                   encoding_embedding_size,\n",
    "                                                   decoding_embedding_size,\n",
    "                                                   rnn_size,\n",
    "                                                   num_layers,\n",
    "                                                   target_vocab_to_int)\n",
    "\n",
    "\n",
    "    training_logits = tf.identity(train_logits.rnn_output, name='logits')\n",
    "    inference_logits = tf.identity(inference_logits.sample_id, name='predictions')\n",
    "\n",
    "    masks = tf.sequence_mask(target_sequence_length, max_target_sequence_length, dtype=tf.float32, name='masks')\n",
    "\n",
    "    with tf.name_scope(\"optimization\"):\n",
    "        # Loss function\n",
    "        cost = tf.contrib.seq2seq.sequence_loss(\n",
    "            training_logits,\n",
    "            targets,\n",
    "            masks)\n",
    "\n",
    "        # Optimizer\n",
    "        optimizer = tf.train.AdamOptimizer(lr)\n",
    "\n",
    "        # Gradient Clipping\n",
    "        gradients = optimizer.compute_gradients(cost)\n",
    "        capped_gradients = [(tf.clip_by_value(grad, -1., 1.), var) for grad, var in gradients if grad is not None]\n",
    "        train_op = optimizer.apply_gradients(capped_gradients)\n"
   ]
  },
  {
   "cell_type": "markdown",
   "metadata": {},
   "source": [
    "Batch and pad the source and target sequences"
   ]
  },
  {
   "cell_type": "code",
   "execution_count": 65,
   "metadata": {
    "collapsed": true
   },
   "outputs": [],
   "source": [
    "\"\"\"\n",
    "DON'T MODIFY ANYTHING IN THIS CELL\n",
    "\"\"\"\n",
    "def pad_sentence_batch(sentence_batch, pad_int):\n",
    "    \"\"\"Pad sentences with <PAD> so that each sentence of a batch has the same length\"\"\"\n",
    "    max_sentence = max([len(sentence) for sentence in sentence_batch])\n",
    "    return [sentence + [pad_int] * (max_sentence - len(sentence)) for sentence in sentence_batch]\n",
    "\n",
    "\n",
    "def get_batches(sources, targets, batch_size, source_pad_int, target_pad_int):\n",
    "    \"\"\"Batch targets, sources, and the lengths of their sentences together\"\"\"\n",
    "    for batch_i in range(0, len(sources)//batch_size):\n",
    "        start_i = batch_i * batch_size\n",
    "\n",
    "        # Slice the right amount for the batch\n",
    "        sources_batch = sources[start_i:start_i + batch_size]\n",
    "        targets_batch = targets[start_i:start_i + batch_size]\n",
    "\n",
    "        # Pad\n",
    "        pad_sources_batch = np.array(pad_sentence_batch(sources_batch, source_pad_int))\n",
    "        pad_targets_batch = np.array(pad_sentence_batch(targets_batch, target_pad_int))\n",
    "\n",
    "        # Need the lengths for the _lengths parameters\n",
    "        pad_targets_lengths = []\n",
    "        for target in pad_targets_batch:\n",
    "            pad_targets_lengths.append(len(target))\n",
    "\n",
    "        pad_source_lengths = []\n",
    "        for source in pad_sources_batch:\n",
    "            pad_source_lengths.append(len(source))\n",
    "\n",
    "        yield pad_sources_batch, pad_targets_batch, pad_source_lengths, pad_targets_lengths\n"
   ]
  },
  {
   "cell_type": "markdown",
   "metadata": {},
   "source": [
    "### Train\n",
    "Train the neural network on the preprocessed data. If you have a hard time getting a good loss, check the forms to see if anyone is having the same problem."
   ]
  },
  {
   "cell_type": "code",
   "execution_count": 66,
   "metadata": {
    "scrolled": false
   },
   "outputs": [
    {
     "name": "stdout",
     "output_type": "stream",
     "text": [
      "Epoch   0 Batch   50/538 - Train Accuracy: 0.2477, Validation Accuracy: 0.3178, Loss: 3.8120\n",
      "Epoch   0 Batch  100/538 - Train Accuracy: 0.2943, Validation Accuracy: 0.3633, Loss: 3.2244\n",
      "Epoch   0 Batch  150/538 - Train Accuracy: 0.3102, Validation Accuracy: 0.3801, Loss: 2.9316\n",
      "Epoch   0 Batch  200/538 - Train Accuracy: 0.3582, Validation Accuracy: 0.4205, Loss: 2.7083\n",
      "Epoch   0 Batch  250/538 - Train Accuracy: 0.4062, Validation Accuracy: 0.4654, Loss: 2.5262\n",
      "Epoch   0 Batch  300/538 - Train Accuracy: 0.4462, Validation Accuracy: 0.4728, Loss: 2.2681\n",
      "Epoch   0 Batch  350/538 - Train Accuracy: 0.4451, Validation Accuracy: 0.4760, Loss: 2.1908\n",
      "Epoch   0 Batch  400/538 - Train Accuracy: 0.4353, Validation Accuracy: 0.4714, Loss: 2.0672\n",
      "Epoch   0 Batch  450/538 - Train Accuracy: 0.4639, Validation Accuracy: 0.4769, Loss: 1.9357\n",
      "Epoch   0 Batch  500/538 - Train Accuracy: 0.4776, Validation Accuracy: 0.4853, Loss: 1.7831\n",
      "Epoch   1 Batch   50/538 - Train Accuracy: 0.4650, Validation Accuracy: 0.5014, Loss: 1.7137\n",
      "Epoch   1 Batch  100/538 - Train Accuracy: 0.5006, Validation Accuracy: 0.5423, Loss: 1.6148\n",
      "Epoch   1 Batch  150/538 - Train Accuracy: 0.5262, Validation Accuracy: 0.5584, Loss: 1.5177\n",
      "Epoch   1 Batch  200/538 - Train Accuracy: 0.5316, Validation Accuracy: 0.5710, Loss: 1.4187\n",
      "Epoch   1 Batch  250/538 - Train Accuracy: 0.5160, Validation Accuracy: 0.5561, Loss: 1.3129\n",
      "Epoch   1 Batch  300/538 - Train Accuracy: 0.5093, Validation Accuracy: 0.5282, Loss: 1.1659\n",
      "Epoch   1 Batch  350/538 - Train Accuracy: 0.4812, Validation Accuracy: 0.5130, Loss: 1.1439\n",
      "Epoch   1 Batch  400/538 - Train Accuracy: 0.5554, Validation Accuracy: 0.5858, Loss: 1.0629\n",
      "Epoch   1 Batch  450/538 - Train Accuracy: 0.5951, Validation Accuracy: 0.5985, Loss: 1.0061\n",
      "Epoch   1 Batch  500/538 - Train Accuracy: 0.6220, Validation Accuracy: 0.6264, Loss: 0.8992\n",
      "Epoch   2 Batch   50/538 - Train Accuracy: 0.5967, Validation Accuracy: 0.6243, Loss: 0.8813\n",
      "Epoch   2 Batch  100/538 - Train Accuracy: 0.6170, Validation Accuracy: 0.6188, Loss: 0.8366\n",
      "Epoch   2 Batch  150/538 - Train Accuracy: 0.6148, Validation Accuracy: 0.6245, Loss: 0.8170\n",
      "Epoch   2 Batch  200/538 - Train Accuracy: 0.6400, Validation Accuracy: 0.6424, Loss: 0.7750\n",
      "Epoch   2 Batch  250/538 - Train Accuracy: 0.6424, Validation Accuracy: 0.6420, Loss: 0.7449\n",
      "Epoch   2 Batch  300/538 - Train Accuracy: 0.6267, Validation Accuracy: 0.6522, Loss: 0.6929\n",
      "Epoch   2 Batch  350/538 - Train Accuracy: 0.6404, Validation Accuracy: 0.6612, Loss: 0.6903\n",
      "Epoch   2 Batch  400/538 - Train Accuracy: 0.6553, Validation Accuracy: 0.6511, Loss: 0.6496\n",
      "Epoch   2 Batch  450/538 - Train Accuracy: 0.6814, Validation Accuracy: 0.6642, Loss: 0.6463\n",
      "Epoch   2 Batch  500/538 - Train Accuracy: 0.6967, Validation Accuracy: 0.6831, Loss: 0.5625\n",
      "Epoch   3 Batch   50/538 - Train Accuracy: 0.7012, Validation Accuracy: 0.6923, Loss: 0.5713\n",
      "Epoch   3 Batch  100/538 - Train Accuracy: 0.7186, Validation Accuracy: 0.6953, Loss: 0.5403\n",
      "Epoch   3 Batch  150/538 - Train Accuracy: 0.6883, Validation Accuracy: 0.7109, Loss: 0.5371\n",
      "Epoch   3 Batch  200/538 - Train Accuracy: 0.7238, Validation Accuracy: 0.7134, Loss: 0.5102\n",
      "Epoch   3 Batch  250/538 - Train Accuracy: 0.7215, Validation Accuracy: 0.7154, Loss: 0.4976\n",
      "Epoch   3 Batch  300/538 - Train Accuracy: 0.7253, Validation Accuracy: 0.7360, Loss: 0.4775\n",
      "Epoch   3 Batch  350/538 - Train Accuracy: 0.7325, Validation Accuracy: 0.7331, Loss: 0.4766\n",
      "Epoch   3 Batch  400/538 - Train Accuracy: 0.7318, Validation Accuracy: 0.7370, Loss: 0.4493\n",
      "Epoch   3 Batch  450/538 - Train Accuracy: 0.7593, Validation Accuracy: 0.7548, Loss: 0.4581\n",
      "Epoch   3 Batch  500/538 - Train Accuracy: 0.7868, Validation Accuracy: 0.7576, Loss: 0.3937\n",
      "Epoch   4 Batch   50/538 - Train Accuracy: 0.7820, Validation Accuracy: 0.7676, Loss: 0.4096\n",
      "Epoch   4 Batch  100/538 - Train Accuracy: 0.7949, Validation Accuracy: 0.7630, Loss: 0.3851\n",
      "Epoch   4 Batch  150/538 - Train Accuracy: 0.7500, Validation Accuracy: 0.7630, Loss: 0.3912\n",
      "Epoch   4 Batch  200/538 - Train Accuracy: 0.7785, Validation Accuracy: 0.7688, Loss: 0.3691\n",
      "Epoch   4 Batch  250/538 - Train Accuracy: 0.8004, Validation Accuracy: 0.7674, Loss: 0.3627\n",
      "Epoch   4 Batch  300/538 - Train Accuracy: 0.7872, Validation Accuracy: 0.7811, Loss: 0.3525\n",
      "Epoch   4 Batch  350/538 - Train Accuracy: 0.7852, Validation Accuracy: 0.7781, Loss: 0.3521\n",
      "Epoch   4 Batch  400/538 - Train Accuracy: 0.7941, Validation Accuracy: 0.7805, Loss: 0.3376\n",
      "Epoch   4 Batch  450/538 - Train Accuracy: 0.7993, Validation Accuracy: 0.7931, Loss: 0.3468\n",
      "Epoch   4 Batch  500/538 - Train Accuracy: 0.8208, Validation Accuracy: 0.7894, Loss: 0.2926\n",
      "Epoch   5 Batch   50/538 - Train Accuracy: 0.8160, Validation Accuracy: 0.7947, Loss: 0.3032\n",
      "Epoch   5 Batch  100/538 - Train Accuracy: 0.8303, Validation Accuracy: 0.7981, Loss: 0.2912\n",
      "Epoch   5 Batch  150/538 - Train Accuracy: 0.7982, Validation Accuracy: 0.7969, Loss: 0.2936\n",
      "Epoch   5 Batch  200/538 - Train Accuracy: 0.8254, Validation Accuracy: 0.8058, Loss: 0.2762\n",
      "Epoch   5 Batch  250/538 - Train Accuracy: 0.8320, Validation Accuracy: 0.8011, Loss: 0.2763\n",
      "Epoch   5 Batch  300/538 - Train Accuracy: 0.8359, Validation Accuracy: 0.8081, Loss: 0.2656\n",
      "Epoch   5 Batch  350/538 - Train Accuracy: 0.8292, Validation Accuracy: 0.8056, Loss: 0.2667\n",
      "Epoch   5 Batch  400/538 - Train Accuracy: 0.8371, Validation Accuracy: 0.8024, Loss: 0.2590\n",
      "Epoch   5 Batch  450/538 - Train Accuracy: 0.8281, Validation Accuracy: 0.8089, Loss: 0.2681\n",
      "Epoch   5 Batch  500/538 - Train Accuracy: 0.8649, Validation Accuracy: 0.8141, Loss: 0.2134\n",
      "Epoch   6 Batch   50/538 - Train Accuracy: 0.8541, Validation Accuracy: 0.8299, Loss: 0.2268\n",
      "Epoch   6 Batch  100/538 - Train Accuracy: 0.8705, Validation Accuracy: 0.8242, Loss: 0.2155\n",
      "Epoch   6 Batch  150/538 - Train Accuracy: 0.8391, Validation Accuracy: 0.8342, Loss: 0.2186\n",
      "Epoch   6 Batch  200/538 - Train Accuracy: 0.8695, Validation Accuracy: 0.8388, Loss: 0.2061\n",
      "Epoch   6 Batch  250/538 - Train Accuracy: 0.8777, Validation Accuracy: 0.8466, Loss: 0.2038\n",
      "Epoch   6 Batch  300/538 - Train Accuracy: 0.8847, Validation Accuracy: 0.8429, Loss: 0.1976\n",
      "Epoch   6 Batch  350/538 - Train Accuracy: 0.8875, Validation Accuracy: 0.8381, Loss: 0.2010\n",
      "Epoch   6 Batch  400/538 - Train Accuracy: 0.8832, Validation Accuracy: 0.8619, Loss: 0.1951\n",
      "Epoch   6 Batch  450/538 - Train Accuracy: 0.8683, Validation Accuracy: 0.8542, Loss: 0.2040\n",
      "Epoch   6 Batch  500/538 - Train Accuracy: 0.9077, Validation Accuracy: 0.8558, Loss: 0.1560\n",
      "Epoch   7 Batch   50/538 - Train Accuracy: 0.8906, Validation Accuracy: 0.8805, Loss: 0.1687\n",
      "Epoch   7 Batch  100/538 - Train Accuracy: 0.9090, Validation Accuracy: 0.8800, Loss: 0.1599\n",
      "Epoch   7 Batch  150/538 - Train Accuracy: 0.8893, Validation Accuracy: 0.8798, Loss: 0.1643\n",
      "Epoch   7 Batch  200/538 - Train Accuracy: 0.8977, Validation Accuracy: 0.8940, Loss: 0.1538\n",
      "Epoch   7 Batch  250/538 - Train Accuracy: 0.9096, Validation Accuracy: 0.8871, Loss: 0.1533\n",
      "Epoch   7 Batch  300/538 - Train Accuracy: 0.8956, Validation Accuracy: 0.8912, Loss: 0.1525\n",
      "Epoch   7 Batch  350/538 - Train Accuracy: 0.9113, Validation Accuracy: 0.8919, Loss: 0.1533\n",
      "Epoch   7 Batch  400/538 - Train Accuracy: 0.9012, Validation Accuracy: 0.8938, Loss: 0.1498\n",
      "Epoch   7 Batch  450/538 - Train Accuracy: 0.8826, Validation Accuracy: 0.8961, Loss: 0.1601\n",
      "Epoch   7 Batch  500/538 - Train Accuracy: 0.9201, Validation Accuracy: 0.9011, Loss: 0.1173\n",
      "Epoch   8 Batch   50/538 - Train Accuracy: 0.9146, Validation Accuracy: 0.9034, Loss: 0.1306\n",
      "Epoch   8 Batch  100/538 - Train Accuracy: 0.9184, Validation Accuracy: 0.8974, Loss: 0.1232\n",
      "Epoch   8 Batch  150/538 - Train Accuracy: 0.9129, Validation Accuracy: 0.8983, Loss: 0.1254\n",
      "Epoch   8 Batch  200/538 - Train Accuracy: 0.9174, Validation Accuracy: 0.9141, Loss: 0.1201\n",
      "Epoch   8 Batch  250/538 - Train Accuracy: 0.9240, Validation Accuracy: 0.9013, Loss: 0.1184\n",
      "Epoch   8 Batch  300/538 - Train Accuracy: 0.9174, Validation Accuracy: 0.9201, Loss: 0.1197\n",
      "Epoch   8 Batch  350/538 - Train Accuracy: 0.9174, Validation Accuracy: 0.9141, Loss: 0.1221\n",
      "Epoch   8 Batch  400/538 - Train Accuracy: 0.9072, Validation Accuracy: 0.9194, Loss: 0.1203\n",
      "Epoch   8 Batch  450/538 - Train Accuracy: 0.8983, Validation Accuracy: 0.9167, Loss: 0.1317\n"
     ]
    },
    {
     "name": "stdout",
     "output_type": "stream",
     "text": [
      "Epoch   8 Batch  500/538 - Train Accuracy: 0.9354, Validation Accuracy: 0.9219, Loss: 0.0890\n",
      "Epoch   9 Batch   50/538 - Train Accuracy: 0.9242, Validation Accuracy: 0.9263, Loss: 0.1000\n",
      "Epoch   9 Batch  100/538 - Train Accuracy: 0.9346, Validation Accuracy: 0.9146, Loss: 0.0950\n",
      "Epoch   9 Batch  150/538 - Train Accuracy: 0.9355, Validation Accuracy: 0.9157, Loss: 0.0962\n",
      "Epoch   9 Batch  200/538 - Train Accuracy: 0.9350, Validation Accuracy: 0.9254, Loss: 0.0913\n",
      "Epoch   9 Batch  250/538 - Train Accuracy: 0.9389, Validation Accuracy: 0.9215, Loss: 0.0888\n",
      "Epoch   9 Batch  300/538 - Train Accuracy: 0.9293, Validation Accuracy: 0.9325, Loss: 0.0941\n",
      "Epoch   9 Batch  350/538 - Train Accuracy: 0.9237, Validation Accuracy: 0.9347, Loss: 0.0973\n",
      "Epoch   9 Batch  400/538 - Train Accuracy: 0.9191, Validation Accuracy: 0.9316, Loss: 0.0968\n",
      "Epoch   9 Batch  450/538 - Train Accuracy: 0.9089, Validation Accuracy: 0.9318, Loss: 0.1049\n",
      "Epoch   9 Batch  500/538 - Train Accuracy: 0.9551, Validation Accuracy: 0.9341, Loss: 0.0678\n",
      "Epoch  10 Batch   50/538 - Train Accuracy: 0.9381, Validation Accuracy: 0.9339, Loss: 0.0785\n",
      "Epoch  10 Batch  100/538 - Train Accuracy: 0.9484, Validation Accuracy: 0.9325, Loss: 0.0741\n",
      "Epoch  10 Batch  150/538 - Train Accuracy: 0.9383, Validation Accuracy: 0.9357, Loss: 0.0748\n",
      "Epoch  10 Batch  200/538 - Train Accuracy: 0.9414, Validation Accuracy: 0.9363, Loss: 0.0712\n",
      "Epoch  10 Batch  250/538 - Train Accuracy: 0.9391, Validation Accuracy: 0.9256, Loss: 0.0711\n",
      "Epoch  10 Batch  300/538 - Train Accuracy: 0.9461, Validation Accuracy: 0.9387, Loss: 0.0740\n",
      "Epoch  10 Batch  350/538 - Train Accuracy: 0.9364, Validation Accuracy: 0.9355, Loss: 0.0783\n",
      "Epoch  10 Batch  400/538 - Train Accuracy: 0.9334, Validation Accuracy: 0.9428, Loss: 0.0776\n",
      "Epoch  10 Batch  450/538 - Train Accuracy: 0.9306, Validation Accuracy: 0.9384, Loss: 0.0839\n",
      "Epoch  10 Batch  500/538 - Train Accuracy: 0.9664, Validation Accuracy: 0.9451, Loss: 0.0539\n",
      "Epoch  11 Batch   50/538 - Train Accuracy: 0.9381, Validation Accuracy: 0.9412, Loss: 0.0631\n",
      "Epoch  11 Batch  100/538 - Train Accuracy: 0.9494, Validation Accuracy: 0.9462, Loss: 0.0594\n",
      "Epoch  11 Batch  150/538 - Train Accuracy: 0.9455, Validation Accuracy: 0.9455, Loss: 0.0609\n",
      "Epoch  11 Batch  200/538 - Train Accuracy: 0.9537, Validation Accuracy: 0.9444, Loss: 0.0582\n",
      "Epoch  11 Batch  250/538 - Train Accuracy: 0.9557, Validation Accuracy: 0.9315, Loss: 0.0572\n",
      "Epoch  11 Batch  300/538 - Train Accuracy: 0.9528, Validation Accuracy: 0.9393, Loss: 0.0618\n",
      "Epoch  11 Batch  350/538 - Train Accuracy: 0.9440, Validation Accuracy: 0.9426, Loss: 0.0646\n",
      "Epoch  11 Batch  400/538 - Train Accuracy: 0.9418, Validation Accuracy: 0.9490, Loss: 0.0635\n",
      "Epoch  11 Batch  450/538 - Train Accuracy: 0.9239, Validation Accuracy: 0.9467, Loss: 0.0716\n",
      "Epoch  11 Batch  500/538 - Train Accuracy: 0.9682, Validation Accuracy: 0.9508, Loss: 0.0428\n",
      "Epoch  12 Batch   50/538 - Train Accuracy: 0.9490, Validation Accuracy: 0.9526, Loss: 0.0517\n",
      "Epoch  12 Batch  100/538 - Train Accuracy: 0.9535, Validation Accuracy: 0.9482, Loss: 0.0497\n",
      "Epoch  12 Batch  150/538 - Train Accuracy: 0.9629, Validation Accuracy: 0.9558, Loss: 0.0526\n",
      "Epoch  12 Batch  200/538 - Train Accuracy: 0.9660, Validation Accuracy: 0.9503, Loss: 0.0490\n",
      "Epoch  12 Batch  250/538 - Train Accuracy: 0.9570, Validation Accuracy: 0.9540, Loss: 0.0480\n",
      "Epoch  12 Batch  300/538 - Train Accuracy: 0.9539, Validation Accuracy: 0.9574, Loss: 0.0535\n",
      "Epoch  12 Batch  350/538 - Train Accuracy: 0.9511, Validation Accuracy: 0.9513, Loss: 0.0541\n",
      "Epoch  12 Batch  400/538 - Train Accuracy: 0.9550, Validation Accuracy: 0.9492, Loss: 0.0539\n",
      "Epoch  12 Batch  450/538 - Train Accuracy: 0.9360, Validation Accuracy: 0.9471, Loss: 0.0609\n",
      "Epoch  12 Batch  500/538 - Train Accuracy: 0.9737, Validation Accuracy: 0.9528, Loss: 0.0358\n",
      "Epoch  13 Batch   50/538 - Train Accuracy: 0.9520, Validation Accuracy: 0.9538, Loss: 0.0446\n",
      "Epoch  13 Batch  100/538 - Train Accuracy: 0.9619, Validation Accuracy: 0.9531, Loss: 0.0409\n",
      "Epoch  13 Batch  150/538 - Train Accuracy: 0.9666, Validation Accuracy: 0.9556, Loss: 0.0447\n",
      "Epoch  13 Batch  200/538 - Train Accuracy: 0.9689, Validation Accuracy: 0.9560, Loss: 0.0401\n",
      "Epoch  13 Batch  250/538 - Train Accuracy: 0.9555, Validation Accuracy: 0.9542, Loss: 0.0406\n",
      "Epoch  13 Batch  300/538 - Train Accuracy: 0.9632, Validation Accuracy: 0.9544, Loss: 0.0450\n",
      "Epoch  13 Batch  350/538 - Train Accuracy: 0.9548, Validation Accuracy: 0.9515, Loss: 0.0475\n",
      "Epoch  13 Batch  400/538 - Train Accuracy: 0.9567, Validation Accuracy: 0.9549, Loss: 0.0471\n",
      "Epoch  13 Batch  450/538 - Train Accuracy: 0.9271, Validation Accuracy: 0.9498, Loss: 0.0551\n",
      "Epoch  13 Batch  500/538 - Train Accuracy: 0.9744, Validation Accuracy: 0.9592, Loss: 0.0306\n",
      "Epoch  14 Batch   50/538 - Train Accuracy: 0.9613, Validation Accuracy: 0.9540, Loss: 0.0365\n",
      "Epoch  14 Batch  100/538 - Train Accuracy: 0.9627, Validation Accuracy: 0.9567, Loss: 0.0359\n",
      "Epoch  14 Batch  150/538 - Train Accuracy: 0.9619, Validation Accuracy: 0.9632, Loss: 0.0382\n",
      "Epoch  14 Batch  200/538 - Train Accuracy: 0.9705, Validation Accuracy: 0.9631, Loss: 0.0361\n",
      "Epoch  14 Batch  250/538 - Train Accuracy: 0.9686, Validation Accuracy: 0.9579, Loss: 0.0346\n",
      "Epoch  14 Batch  300/538 - Train Accuracy: 0.9581, Validation Accuracy: 0.9576, Loss: 0.0417\n",
      "Epoch  14 Batch  350/538 - Train Accuracy: 0.9533, Validation Accuracy: 0.9604, Loss: 0.0419\n",
      "Epoch  14 Batch  400/538 - Train Accuracy: 0.9589, Validation Accuracy: 0.9606, Loss: 0.0433\n",
      "Epoch  14 Batch  450/538 - Train Accuracy: 0.9418, Validation Accuracy: 0.9586, Loss: 0.0489\n",
      "Epoch  14 Batch  500/538 - Train Accuracy: 0.9803, Validation Accuracy: 0.9590, Loss: 0.0265\n",
      "Epoch  15 Batch   50/538 - Train Accuracy: 0.9568, Validation Accuracy: 0.9553, Loss: 0.0317\n",
      "Epoch  15 Batch  100/538 - Train Accuracy: 0.9750, Validation Accuracy: 0.9609, Loss: 0.0322\n",
      "Epoch  15 Batch  150/538 - Train Accuracy: 0.9750, Validation Accuracy: 0.9531, Loss: 0.0350\n",
      "Epoch  15 Batch  200/538 - Train Accuracy: 0.9729, Validation Accuracy: 0.9634, Loss: 0.0298\n",
      "Epoch  15 Batch  250/538 - Train Accuracy: 0.9602, Validation Accuracy: 0.9503, Loss: 0.0315\n",
      "Epoch  15 Batch  300/538 - Train Accuracy: 0.9686, Validation Accuracy: 0.9613, Loss: 0.0365\n",
      "Epoch  15 Batch  350/538 - Train Accuracy: 0.9594, Validation Accuracy: 0.9638, Loss: 0.0384\n",
      "Epoch  15 Batch  400/538 - Train Accuracy: 0.9704, Validation Accuracy: 0.9627, Loss: 0.0382\n",
      "Epoch  15 Batch  450/538 - Train Accuracy: 0.9449, Validation Accuracy: 0.9606, Loss: 0.0422\n",
      "Epoch  15 Batch  500/538 - Train Accuracy: 0.9840, Validation Accuracy: 0.9627, Loss: 0.0236\n",
      "Epoch  16 Batch   50/538 - Train Accuracy: 0.9686, Validation Accuracy: 0.9645, Loss: 0.0280\n",
      "Epoch  16 Batch  100/538 - Train Accuracy: 0.9688, Validation Accuracy: 0.9631, Loss: 0.0287\n",
      "Epoch  16 Batch  150/538 - Train Accuracy: 0.9691, Validation Accuracy: 0.9618, Loss: 0.0322\n",
      "Epoch  16 Batch  200/538 - Train Accuracy: 0.9764, Validation Accuracy: 0.9593, Loss: 0.0261\n",
      "Epoch  16 Batch  250/538 - Train Accuracy: 0.9729, Validation Accuracy: 0.9567, Loss: 0.0273\n",
      "Epoch  16 Batch  300/538 - Train Accuracy: 0.9689, Validation Accuracy: 0.9652, Loss: 0.0313\n",
      "Epoch  16 Batch  350/538 - Train Accuracy: 0.9695, Validation Accuracy: 0.9608, Loss: 0.0340\n",
      "Epoch  16 Batch  400/538 - Train Accuracy: 0.9710, Validation Accuracy: 0.9625, Loss: 0.0346\n",
      "Epoch  16 Batch  450/538 - Train Accuracy: 0.9418, Validation Accuracy: 0.9579, Loss: 0.0391\n",
      "Epoch  16 Batch  500/538 - Train Accuracy: 0.9787, Validation Accuracy: 0.9556, Loss: 0.0211\n",
      "Epoch  17 Batch   50/538 - Train Accuracy: 0.9693, Validation Accuracy: 0.9560, Loss: 0.0260\n",
      "Epoch  17 Batch  100/538 - Train Accuracy: 0.9707, Validation Accuracy: 0.9585, Loss: 0.0248\n",
      "Epoch  17 Batch  150/538 - Train Accuracy: 0.9750, Validation Accuracy: 0.9609, Loss: 0.0290\n",
      "Epoch  17 Batch  200/538 - Train Accuracy: 0.9758, Validation Accuracy: 0.9606, Loss: 0.0240\n",
      "Epoch  17 Batch  250/538 - Train Accuracy: 0.9766, Validation Accuracy: 0.9455, Loss: 0.0250\n",
      "Epoch  17 Batch  300/538 - Train Accuracy: 0.9689, Validation Accuracy: 0.9645, Loss: 0.0290\n",
      "Epoch  17 Batch  350/538 - Train Accuracy: 0.9645, Validation Accuracy: 0.9592, Loss: 0.0307\n",
      "Epoch  17 Batch  400/538 - Train Accuracy: 0.9758, Validation Accuracy: 0.9684, Loss: 0.0314\n"
     ]
    },
    {
     "name": "stdout",
     "output_type": "stream",
     "text": [
      "Epoch  17 Batch  450/538 - Train Accuracy: 0.9501, Validation Accuracy: 0.9599, Loss: 0.0360\n",
      "Epoch  17 Batch  500/538 - Train Accuracy: 0.9853, Validation Accuracy: 0.9611, Loss: 0.0187\n",
      "Epoch  18 Batch   50/538 - Train Accuracy: 0.9666, Validation Accuracy: 0.9545, Loss: 0.0234\n",
      "Epoch  18 Batch  100/538 - Train Accuracy: 0.9730, Validation Accuracy: 0.9670, Loss: 0.0219\n",
      "Epoch  18 Batch  150/538 - Train Accuracy: 0.9748, Validation Accuracy: 0.9666, Loss: 0.0275\n",
      "Epoch  18 Batch  200/538 - Train Accuracy: 0.9738, Validation Accuracy: 0.9657, Loss: 0.0206\n",
      "Epoch  18 Batch  250/538 - Train Accuracy: 0.9805, Validation Accuracy: 0.9524, Loss: 0.0233\n",
      "Epoch  18 Batch  300/538 - Train Accuracy: 0.9693, Validation Accuracy: 0.9622, Loss: 0.0247\n",
      "Epoch  18 Batch  350/538 - Train Accuracy: 0.9680, Validation Accuracy: 0.9588, Loss: 0.0280\n",
      "Epoch  18 Batch  400/538 - Train Accuracy: 0.9794, Validation Accuracy: 0.9570, Loss: 0.0277\n",
      "Epoch  18 Batch  450/538 - Train Accuracy: 0.9565, Validation Accuracy: 0.9625, Loss: 0.0336\n",
      "Epoch  18 Batch  500/538 - Train Accuracy: 0.9821, Validation Accuracy: 0.9593, Loss: 0.0180\n",
      "Epoch  19 Batch   50/538 - Train Accuracy: 0.9738, Validation Accuracy: 0.9590, Loss: 0.0217\n",
      "Epoch  19 Batch  100/538 - Train Accuracy: 0.9732, Validation Accuracy: 0.9645, Loss: 0.0207\n",
      "Epoch  19 Batch  150/538 - Train Accuracy: 0.9824, Validation Accuracy: 0.9643, Loss: 0.0235\n",
      "Epoch  19 Batch  200/538 - Train Accuracy: 0.9791, Validation Accuracy: 0.9613, Loss: 0.0183\n",
      "Epoch  19 Batch  250/538 - Train Accuracy: 0.9811, Validation Accuracy: 0.9563, Loss: 0.0209\n",
      "Epoch  19 Batch  300/538 - Train Accuracy: 0.9730, Validation Accuracy: 0.9672, Loss: 0.0230\n",
      "Epoch  19 Batch  350/538 - Train Accuracy: 0.9673, Validation Accuracy: 0.9570, Loss: 0.0265\n",
      "Epoch  19 Batch  400/538 - Train Accuracy: 0.9781, Validation Accuracy: 0.9615, Loss: 0.0269\n",
      "Epoch  19 Batch  450/538 - Train Accuracy: 0.9544, Validation Accuracy: 0.9648, Loss: 0.0311\n",
      "Epoch  19 Batch  500/538 - Train Accuracy: 0.9877, Validation Accuracy: 0.9563, Loss: 0.0177\n",
      "Epoch  20 Batch   50/538 - Train Accuracy: 0.9771, Validation Accuracy: 0.9547, Loss: 0.0194\n",
      "Epoch  20 Batch  100/538 - Train Accuracy: 0.9787, Validation Accuracy: 0.9620, Loss: 0.0198\n",
      "Epoch  20 Batch  150/538 - Train Accuracy: 0.9818, Validation Accuracy: 0.9661, Loss: 0.0232\n",
      "Epoch  20 Batch  200/538 - Train Accuracy: 0.9816, Validation Accuracy: 0.9711, Loss: 0.0171\n",
      "Epoch  20 Batch  250/538 - Train Accuracy: 0.9789, Validation Accuracy: 0.9560, Loss: 0.0197\n",
      "Epoch  20 Batch  300/538 - Train Accuracy: 0.9719, Validation Accuracy: 0.9663, Loss: 0.0211\n",
      "Epoch  20 Batch  350/538 - Train Accuracy: 0.9693, Validation Accuracy: 0.9632, Loss: 0.0247\n",
      "Epoch  20 Batch  400/538 - Train Accuracy: 0.9801, Validation Accuracy: 0.9597, Loss: 0.0252\n",
      "Epoch  20 Batch  450/538 - Train Accuracy: 0.9578, Validation Accuracy: 0.9586, Loss: 0.0285\n",
      "Epoch  20 Batch  500/538 - Train Accuracy: 0.9892, Validation Accuracy: 0.9593, Loss: 0.0145\n",
      "Epoch  21 Batch   50/538 - Train Accuracy: 0.9805, Validation Accuracy: 0.9622, Loss: 0.0173\n",
      "Epoch  21 Batch  100/538 - Train Accuracy: 0.9807, Validation Accuracy: 0.9688, Loss: 0.0179\n",
      "Epoch  21 Batch  150/538 - Train Accuracy: 0.9797, Validation Accuracy: 0.9599, Loss: 0.0210\n",
      "Epoch  21 Batch  200/538 - Train Accuracy: 0.9803, Validation Accuracy: 0.9680, Loss: 0.0161\n",
      "Epoch  21 Batch  250/538 - Train Accuracy: 0.9785, Validation Accuracy: 0.9542, Loss: 0.0173\n",
      "Epoch  21 Batch  300/538 - Train Accuracy: 0.9732, Validation Accuracy: 0.9645, Loss: 0.0194\n",
      "Epoch  21 Batch  350/538 - Train Accuracy: 0.9708, Validation Accuracy: 0.9622, Loss: 0.0220\n",
      "Epoch  21 Batch  400/538 - Train Accuracy: 0.9853, Validation Accuracy: 0.9688, Loss: 0.0227\n",
      "Epoch  21 Batch  450/538 - Train Accuracy: 0.9535, Validation Accuracy: 0.9668, Loss: 0.0269\n",
      "Epoch  21 Batch  500/538 - Train Accuracy: 0.9885, Validation Accuracy: 0.9615, Loss: 0.0142\n",
      "Epoch  22 Batch   50/538 - Train Accuracy: 0.9818, Validation Accuracy: 0.9611, Loss: 0.0174\n",
      "Epoch  22 Batch  100/538 - Train Accuracy: 0.9770, Validation Accuracy: 0.9684, Loss: 0.0172\n",
      "Epoch  22 Batch  150/538 - Train Accuracy: 0.9797, Validation Accuracy: 0.9648, Loss: 0.0215\n",
      "Epoch  22 Batch  200/538 - Train Accuracy: 0.9824, Validation Accuracy: 0.9661, Loss: 0.0155\n",
      "Epoch  22 Batch  250/538 - Train Accuracy: 0.9793, Validation Accuracy: 0.9574, Loss: 0.0160\n",
      "Epoch  22 Batch  300/538 - Train Accuracy: 0.9786, Validation Accuracy: 0.9698, Loss: 0.0167\n",
      "Epoch  22 Batch  350/538 - Train Accuracy: 0.9740, Validation Accuracy: 0.9675, Loss: 0.0222\n",
      "Epoch  22 Batch  400/538 - Train Accuracy: 0.9890, Validation Accuracy: 0.9659, Loss: 0.0225\n",
      "Epoch  22 Batch  450/538 - Train Accuracy: 0.9522, Validation Accuracy: 0.9657, Loss: 0.0242\n",
      "Epoch  22 Batch  500/538 - Train Accuracy: 0.9860, Validation Accuracy: 0.9620, Loss: 0.0128\n",
      "Epoch  23 Batch   50/538 - Train Accuracy: 0.9766, Validation Accuracy: 0.9654, Loss: 0.0151\n",
      "Epoch  23 Batch  100/538 - Train Accuracy: 0.9838, Validation Accuracy: 0.9616, Loss: 0.0140\n",
      "Epoch  23 Batch  150/538 - Train Accuracy: 0.9777, Validation Accuracy: 0.9616, Loss: 0.0188\n",
      "Epoch  23 Batch  200/538 - Train Accuracy: 0.9863, Validation Accuracy: 0.9677, Loss: 0.0129\n",
      "Epoch  23 Batch  250/538 - Train Accuracy: 0.9850, Validation Accuracy: 0.9627, Loss: 0.0156\n",
      "Epoch  23 Batch  300/538 - Train Accuracy: 0.9764, Validation Accuracy: 0.9664, Loss: 0.0166\n",
      "Epoch  23 Batch  350/538 - Train Accuracy: 0.9721, Validation Accuracy: 0.9668, Loss: 0.0204\n",
      "Epoch  23 Batch  400/538 - Train Accuracy: 0.9840, Validation Accuracy: 0.9618, Loss: 0.0212\n",
      "Epoch  23 Batch  450/538 - Train Accuracy: 0.9513, Validation Accuracy: 0.9625, Loss: 0.0245\n",
      "Epoch  23 Batch  500/538 - Train Accuracy: 0.9826, Validation Accuracy: 0.9606, Loss: 0.0125\n",
      "Epoch  24 Batch   50/538 - Train Accuracy: 0.9842, Validation Accuracy: 0.9654, Loss: 0.0141\n",
      "Epoch  24 Batch  100/538 - Train Accuracy: 0.9783, Validation Accuracy: 0.9739, Loss: 0.0137\n",
      "Epoch  24 Batch  150/538 - Train Accuracy: 0.9803, Validation Accuracy: 0.9696, Loss: 0.0180\n",
      "Epoch  24 Batch  200/538 - Train Accuracy: 0.9838, Validation Accuracy: 0.9673, Loss: 0.0120\n",
      "Epoch  24 Batch  250/538 - Train Accuracy: 0.9852, Validation Accuracy: 0.9677, Loss: 0.0147\n",
      "Epoch  24 Batch  300/538 - Train Accuracy: 0.9799, Validation Accuracy: 0.9588, Loss: 0.0169\n",
      "Epoch  24 Batch  350/538 - Train Accuracy: 0.9734, Validation Accuracy: 0.9647, Loss: 0.0210\n",
      "Epoch  24 Batch  400/538 - Train Accuracy: 0.9890, Validation Accuracy: 0.9723, Loss: 0.0187\n",
      "Epoch  24 Batch  450/538 - Train Accuracy: 0.9570, Validation Accuracy: 0.9647, Loss: 0.0236\n",
      "Epoch  24 Batch  500/538 - Train Accuracy: 0.9837, Validation Accuracy: 0.9629, Loss: 0.0116\n",
      "Model Trained and Saved\n"
     ]
    }
   ],
   "source": [
    "\"\"\"\n",
    "DON'T MODIFY ANYTHING IN THIS CELL\n",
    "\"\"\"\n",
    "def get_accuracy(target, logits):\n",
    "    \"\"\"\n",
    "    Calculate accuracy\n",
    "    \"\"\"\n",
    "    max_seq = max(target.shape[1], logits.shape[1])\n",
    "    if max_seq - target.shape[1]:\n",
    "        target = np.pad(\n",
    "            target,\n",
    "            [(0,0),(0,max_seq - target.shape[1])],\n",
    "            'constant')\n",
    "    if max_seq - logits.shape[1]:\n",
    "        logits = np.pad(\n",
    "            logits,\n",
    "            [(0,0),(0,max_seq - logits.shape[1])],\n",
    "            'constant')\n",
    "\n",
    "    return np.mean(np.equal(target, logits))\n",
    "\n",
    "# Split data to training and validation sets\n",
    "train_source = source_int_text[batch_size:]\n",
    "train_target = target_int_text[batch_size:]\n",
    "valid_source = source_int_text[:batch_size]\n",
    "valid_target = target_int_text[:batch_size]\n",
    "(valid_sources_batch, valid_targets_batch, valid_sources_lengths, valid_targets_lengths ) = next(get_batches(valid_source,\n",
    "                                                                                                             valid_target,\n",
    "                                                                                                             batch_size,\n",
    "                                                                                                             source_vocab_to_int['<PAD>'],\n",
    "                                                                                                             target_vocab_to_int['<PAD>']))                                                                                                  \n",
    "with tf.Session(graph=train_graph) as sess:\n",
    "    sess.run(tf.global_variables_initializer())\n",
    "\n",
    "    for epoch_i in range(epochs):\n",
    "        for batch_i, (source_batch, target_batch, sources_lengths, targets_lengths) in enumerate(\n",
    "                get_batches(train_source, train_target, batch_size,\n",
    "                            source_vocab_to_int['<PAD>'],\n",
    "                            target_vocab_to_int['<PAD>'])):\n",
    "\n",
    "            _, loss = sess.run(\n",
    "                [train_op, cost],\n",
    "                {input_data: source_batch,\n",
    "                 targets: target_batch,\n",
    "                 lr: learning_rate,\n",
    "                 target_sequence_length: targets_lengths,\n",
    "                 source_sequence_length: sources_lengths,\n",
    "                 keep_prob: keep_probability})\n",
    "\n",
    "\n",
    "            if batch_i % display_step == 0 and batch_i > 0:\n",
    "\n",
    "\n",
    "                batch_train_logits = sess.run(\n",
    "                    inference_logits,\n",
    "                    {input_data: source_batch,\n",
    "                     source_sequence_length: sources_lengths,\n",
    "                     target_sequence_length: targets_lengths,\n",
    "                     keep_prob: 1.0})\n",
    "\n",
    "\n",
    "                batch_valid_logits = sess.run(\n",
    "                    inference_logits,\n",
    "                    {input_data: valid_sources_batch,\n",
    "                     source_sequence_length: valid_sources_lengths,\n",
    "                     target_sequence_length: valid_targets_lengths,\n",
    "                     keep_prob: 1.0})\n",
    "\n",
    "                train_acc = get_accuracy(target_batch, batch_train_logits)\n",
    "\n",
    "                valid_acc = get_accuracy(valid_targets_batch, batch_valid_logits)\n",
    "\n",
    "                print('Epoch {:>3} Batch {:>4}/{} - Train Accuracy: {:>6.4f}, Validation Accuracy: {:>6.4f}, Loss: {:>6.4f}'\n",
    "                      .format(epoch_i, batch_i, len(source_int_text) // batch_size, train_acc, valid_acc, loss))\n",
    "\n",
    "    # Save Model\n",
    "    saver = tf.train.Saver()\n",
    "    saver.save(sess, save_path)\n",
    "    print('Model Trained and Saved')"
   ]
  },
  {
   "cell_type": "markdown",
   "metadata": {},
   "source": [
    "### Save Parameters\n",
    "Save the `batch_size` and `save_path` parameters for inference."
   ]
  },
  {
   "cell_type": "code",
   "execution_count": 67,
   "metadata": {
    "collapsed": true
   },
   "outputs": [],
   "source": [
    "\"\"\"\n",
    "DON'T MODIFY ANYTHING IN THIS CELL\n",
    "\"\"\"\n",
    "# Save parameters for checkpoint\n",
    "helper.save_params(save_path)"
   ]
  },
  {
   "cell_type": "markdown",
   "metadata": {},
   "source": [
    "# Checkpoint"
   ]
  },
  {
   "cell_type": "code",
   "execution_count": 68,
   "metadata": {
    "collapsed": true
   },
   "outputs": [],
   "source": [
    "\"\"\"\n",
    "DON'T MODIFY ANYTHING IN THIS CELL\n",
    "\"\"\"\n",
    "import tensorflow as tf\n",
    "import numpy as np\n",
    "import helper\n",
    "import problem_unittests as tests\n",
    "\n",
    "_, (source_vocab_to_int, target_vocab_to_int), (source_int_to_vocab, target_int_to_vocab) = helper.load_preprocess()\n",
    "load_path = helper.load_params()"
   ]
  },
  {
   "cell_type": "markdown",
   "metadata": {},
   "source": [
    "## Sentence to Sequence\n",
    "To feed a sentence into the model for translation, you first need to preprocess it.  Implement the function `sentence_to_seq()` to preprocess new sentences.\n",
    "\n",
    "- Convert the sentence to lowercase\n",
    "- Convert words into ids using `vocab_to_int`\n",
    " - Convert words not in the vocabulary, to the `<UNK>` word id."
   ]
  },
  {
   "cell_type": "code",
   "execution_count": 69,
   "metadata": {},
   "outputs": [
    {
     "name": "stdout",
     "output_type": "stream",
     "text": [
      "Tests Passed\n"
     ]
    }
   ],
   "source": [
    "def sentence_to_seq(sentence, vocab_to_int):\n",
    "    \"\"\"\n",
    "    Convert a sentence to a sequence of ids\n",
    "    :param sentence: String\n",
    "    :param vocab_to_int: Dictionary to go from the words to an id\n",
    "    :return: List of word ids\n",
    "    \"\"\"\n",
    "    # TODO: Implement Function\n",
    "    unk_id =vocab_to_int[\"<UNK>\"]\n",
    "    return [vocab_to_int.get(x.lower(),unk_id) for x in sentence.split()]\n",
    "\n",
    "\n",
    "\"\"\"\n",
    "DON'T MODIFY ANYTHING IN THIS CELL THAT IS BELOW THIS LINE\n",
    "\"\"\"\n",
    "tests.test_sentence_to_seq(sentence_to_seq)"
   ]
  },
  {
   "cell_type": "markdown",
   "metadata": {},
   "source": [
    "## Translate\n",
    "This will translate `translate_sentence` from English to French."
   ]
  },
  {
   "cell_type": "code",
   "execution_count": 94,
   "metadata": {},
   "outputs": [
    {
     "name": "stdout",
     "output_type": "stream",
     "text": [
      "INFO:tensorflow:Restoring parameters from checkpoints/dev\n",
      "Input\n",
      "  Word Ids:      [174, 86, 33, 93, 173, 116, 207]\n",
      "  English Words: ['he', 'saw', 'a', 'old', 'yellow', 'truck', '.']\n",
      "\n",
      "Prediction\n",
      "  Word Ids:      [206, 102, 40, 268, 184, 42, 86, 1]\n",
      "  French Words: il a vu un camion jaune . <EOS>\n"
     ]
    }
   ],
   "source": [
    "translate_sentence = 'he saw a old yellow truck .'\n",
    "\n",
    "\n",
    "\"\"\"\n",
    "DON'T MODIFY ANYTHING IN THIS CELL\n",
    "\"\"\"\n",
    "translate_sentence = sentence_to_seq(translate_sentence, source_vocab_to_int)\n",
    "\n",
    "loaded_graph = tf.Graph()\n",
    "with tf.Session(graph=loaded_graph) as sess:\n",
    "    # Load saved model\n",
    "    loader = tf.train.import_meta_graph(load_path + '.meta')\n",
    "    loader.restore(sess, load_path)\n",
    "\n",
    "    input_data = loaded_graph.get_tensor_by_name('input:0')\n",
    "    logits = loaded_graph.get_tensor_by_name('predictions:0')\n",
    "    target_sequence_length = loaded_graph.get_tensor_by_name('target_sequence_length:0')\n",
    "    source_sequence_length = loaded_graph.get_tensor_by_name('source_sequence_length:0')\n",
    "    keep_prob = loaded_graph.get_tensor_by_name('keep_prob:0')\n",
    "\n",
    "    translate_logits = sess.run(logits, {input_data: [translate_sentence]*batch_size,\n",
    "                                         target_sequence_length: [len(translate_sentence)*2]*batch_size,\n",
    "                                         source_sequence_length: [len(translate_sentence)]*batch_size,\n",
    "                                         keep_prob: 1.0})[0]\n",
    "\n",
    "print('Input')\n",
    "print('  Word Ids:      {}'.format([i for i in translate_sentence]))\n",
    "print('  English Words: {}'.format([source_int_to_vocab[i] for i in translate_sentence]))\n",
    "\n",
    "print('\\nPrediction')\n",
    "print('  Word Ids:      {}'.format([i for i in translate_logits]))\n",
    "print('  French Words: {}'.format(\" \".join([target_int_to_vocab[i] for i in translate_logits])))\n"
   ]
  },
  {
   "cell_type": "markdown",
   "metadata": {},
   "source": [
    "## Imperfect Translation\n",
    "You might notice that some sentences translate better than others.  Since the dataset you're using only has a vocabulary of 227 English words of the thousands that you use, you're only going to see good results using these words.  For this project, you don't need a perfect translation. However, if you want to create a better translation model, you'll need better data.\n",
    "\n",
    "You can train on the [WMT10 French-English corpus](http://www.statmt.org/wmt10/training-giga-fren.tar).  This dataset has more vocabulary and richer in topics discussed.  However, this will take you days to train, so make sure you've a GPU and the neural network is performing well on dataset we provided.  Just make sure you play with the WMT10 corpus after you've submitted this project.\n",
    "## Submitting This Project\n",
    "When submitting this project, make sure to run all the cells before saving the notebook. Save the notebook file as \"dlnd_language_translation.ipynb\" and save it as a HTML file under \"File\" -> \"Download as\". Include the \"helper.py\" and \"problem_unittests.py\" files in your submission."
   ]
  },
  {
   "cell_type": "code",
   "execution_count": null,
   "metadata": {
    "collapsed": true
   },
   "outputs": [],
   "source": [
    "    "
   ]
  }
 ],
 "metadata": {
  "anaconda-cloud": {},
  "kernelspec": {
   "display_name": "Python 3",
   "language": "python",
   "name": "python3"
  },
  "language_info": {
   "codemirror_mode": {
    "name": "ipython",
    "version": 3
   },
   "file_extension": ".py",
   "mimetype": "text/x-python",
   "name": "python",
   "nbconvert_exporter": "python",
   "pygments_lexer": "ipython3",
   "version": "3.5.3"
  }
 },
 "nbformat": 4,
 "nbformat_minor": 1
}
